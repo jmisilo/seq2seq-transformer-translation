{
 "cells": [
  {
   "cell_type": "markdown",
   "id": "e0b6bb9a",
   "metadata": {},
   "source": [
    "Data: https://opus.nlpl.eu/opus-100.php"
   ]
  },
  {
   "cell_type": "code",
   "execution_count": 1,
   "id": "fc5eb037",
   "metadata": {},
   "outputs": [],
   "source": [
    "import os\n",
    "import time\n",
    "import wandb\n",
    "import pandas as pd\n",
    "import numpy as np\n",
    "import matplotlib.pyplot as plt\n",
    "import seaborn as sns\n",
    "import torch\n",
    "import torch.optim as optim\n",
    "import torch.nn as nn\n",
    "import torch.nn.functional as F\n",
    "from dataclasses import dataclass\n",
    "from torch.nn.utils.rnn import pad_sequence"
   ]
  },
  {
   "cell_type": "code",
   "execution_count": 2,
   "id": "bb44e430",
   "metadata": {},
   "outputs": [],
   "source": [
    "from modules.data import Vocabulary, PolEngDS, get_loader\n",
    "from modules.model import Model"
   ]
  },
  {
   "cell_type": "code",
   "execution_count": 3,
   "id": "3f6c7122",
   "metadata": {},
   "outputs": [],
   "source": [
    "@dataclass\n",
    "class Config:\n",
    "    epochs:int = 20\n",
    "    learning_rate:float = 3e-4\n",
    "    batch_size:int = 32\n",
    "    limit:int = 100000\n",
    "    max_length:int = 50\n",
    "    embed_size:int = 256\n",
    "    num_layers:int = 3\n",
    "    heads:int = 8\n",
    "    forward_expansion:int = 4\n",
    "    dropout:int = 0.15\n",
    "        \n",
    "config = Config()"
   ]
  },
  {
   "cell_type": "code",
   "execution_count": 4,
   "id": "8df99b94",
   "metadata": {},
   "outputs": [],
   "source": [
    "@dataclass\n",
    "class paths:\n",
    "    data = os.path.join('data', 'en-pl')\n",
    "    pl_test = os.path.join(data, 'opus.en-pl-test.pl')\n",
    "    en_test = os.path.join(data, 'opus.en-pl-test.en')\n",
    "    pl_dev = os.path.join(data, 'opus.en-pl-dev.pl')\n",
    "    en_dev = os.path.join(data, 'opus.en-pl-dev.en')\n",
    "    pl_train = os.path.join(data, 'opus.en-pl-train.pl')\n",
    "    en_train = os.path.join(data, 'opus.en-pl-train.en')"
   ]
  },
  {
   "cell_type": "code",
   "execution_count": 5,
   "id": "90e1f213",
   "metadata": {},
   "outputs": [],
   "source": [
    "train_data = PolEngDS(\n",
    "    pl_path=paths.pl_train, \n",
    "    en_path=paths.en_train, \n",
    "    limit=config.limit\n",
    ")\n",
    "\n",
    "vocab_pl = train_data.vocab_pl\n",
    "vocab_en = train_data.vocab_en"
   ]
  },
  {
   "cell_type": "markdown",
   "id": "5a6f863c",
   "metadata": {},
   "source": [
    "### Data analysis"
   ]
  },
  {
   "cell_type": "code",
   "execution_count": 6,
   "id": "d6ac6870",
   "metadata": {},
   "outputs": [],
   "source": [
    "lens_pl = train_data.data['polish'].apply(lambda x: len(x.split())).values\n",
    "lens_en = train_data.data['english'].apply(lambda x: len(x.split())).values"
   ]
  },
  {
   "cell_type": "code",
   "execution_count": 7,
   "id": "bb3f2aa0",
   "metadata": {},
   "outputs": [
    {
     "data": {
      "image/png": "[encoded data removed]",
      "text/plain": [
       "<Figure size 720x504 with 1 Axes>"
      ]
     },
     "metadata": {
      "needs_background": "light"
     },
     "output_type": "display_data"
    },
    {
     "name": "stdout",
     "output_type": "stream",
     "text": [
      "Percentile 98%: 27.0\n"
     ]
    },
    {
     "data": {
      "image/png": "[encoded data removed]",
      "text/plain": [
       "<Figure size 720x504 with 1 Axes>"
      ]
     },
     "metadata": {
      "needs_background": "light"
     },
     "output_type": "display_data"
    },
    {
     "name": "stdout",
     "output_type": "stream",
     "text": [
      "Percentile 98%: 32.0\n"
     ]
    }
   ],
   "source": [
    "plt.figure(figsize=(10, 7))\n",
    "plt.title('Polish texts - number of words per sequence')\n",
    "sns.histplot(lens_pl, bins=20)\n",
    "plt.show()\n",
    "print(F'Percentile 98%: {np.percentile(lens_pl, 98)}')\n",
    "\n",
    "plt.figure(figsize=(10, 7))\n",
    "plt.title('English texts - number of words per sequence')\n",
    "sns.histplot(lens_en, bins=20)\n",
    "plt.show()\n",
    "print(F'Percentile 98%: {np.percentile(lens_en, 98)}')"
   ]
  },
  {
   "cell_type": "markdown",
   "id": "0508a478",
   "metadata": {},
   "source": [
    "### ..."
   ]
  },
  {
   "cell_type": "code",
   "execution_count": 8,
   "id": "8115e9d1",
   "metadata": {},
   "outputs": [],
   "source": [
    "train_loader = get_loader(data=train_data, batch_size=config.batch_size)"
   ]
  },
  {
   "cell_type": "code",
   "execution_count": 9,
   "id": "403cce4e",
   "metadata": {},
   "outputs": [],
   "source": [
    "device = torch.device('cuda' if torch.cuda.is_available() else 'cpu')"
   ]
  },
  {
   "cell_type": "code",
   "execution_count": 10,
   "id": "e0ab637d",
   "metadata": {},
   "outputs": [],
   "source": [
    "model = Model(\n",
    "    src_vocab_size=len(vocab_pl),\n",
    "    trg_vocab_size=len(vocab_en),\n",
    "    src_pad_idx=vocab_pl['<pad>'],\n",
    "    trg_pad_idx=vocab_en['<pad>'],\n",
    "    embed_size=config.embed_size,\n",
    "    num_layers=config.num_layers,\n",
    "    heads=config.heads,\n",
    "    forward_expansion=config.forward_expansion,\n",
    "    dropout=config.dropout,\n",
    "    max_length=config.max_length,\n",
    "    device=device\n",
    ")"
   ]
  },
  {
   "cell_type": "code",
   "execution_count": 11,
   "id": "35288472",
   "metadata": {},
   "outputs": [],
   "source": [
    "optimizer = optim.AdamW(model.parameters(), lr=config.learning_rate)\n",
    "criterion = nn.CrossEntropyLoss(ignore_index=vocab_en['<pad>'])\n",
    "\n",
    "scheduler = optim.lr_scheduler.ReduceLROnPlateau(\n",
    "    optimizer,\n",
    "    factor=0.1,\n",
    "    patience=5,\n",
    "    verbose=True\n",
    ")"
   ]
  },
  {
   "cell_type": "code",
   "execution_count": 12,
   "id": "6c57714e",
   "metadata": {},
   "outputs": [],
   "source": [
    "wandb.init(\n",
    "    project=f'PolEng translation - {time.time()}', \n",
    "    config=config.__dict__\n",
    ")"
   ]
  },
  {
   "cell_type": "code",
   "execution_count": 13,
   "id": "5e2f6432",
   "metadata": {},
   "outputs": [],
   "source": [
    "wandb.watch(model, log_freq=50)"
   ]
  },
  {
   "cell_type": "code",
   "execution_count": 14,
   "id": "6190c622",
   "metadata": {},
   "outputs": [],
   "source": [
    "def train_epoch(model, loader, epoch, device=device):\n",
    "    model.train()\n",
    "    \n",
    "    losses = []\n",
    "    t0 = time.time()\n",
    "    t_batch = t0\n",
    "    \n",
    "    for batch_idx, (src, trg) in enumerate(loader):\n",
    "        src = src.to(device)\n",
    "        trg = trg.to(device)\n",
    "\n",
    "        scores = model(src, trg[:, :-1])\n",
    "        \n",
    "        loss = criterion(\n",
    "            scores.reshape(-1, scores.shape[2]), \n",
    "            trg[:, 1:].reshape(-1).type(torch.long)\n",
    "        )\n",
    "        \n",
    "        losses.append(loss)\n",
    "        \n",
    "        optimizer.zero_grad()\n",
    "        loss.backward()\n",
    "        \n",
    "        torch.nn.utils.clip_grad_norm_(model.parameters(), max_norm=1)\n",
    "        \n",
    "        optimizer.step()\n",
    "        \n",
    "        if (batch_idx + 1) % int(len(loader) / 5) == 0:\n",
    "            print('Epoch: {epoch}, batch: {batch_idx}/{no_batches}, loss: {loss:.3f}, time: {t:.2f}'.format(\n",
    "                epoch=epoch+1,\n",
    "                batch_idx=batch_idx,\n",
    "                no_batches=len(loader),\n",
    "                loss=sum(losses)/len(losses),\n",
    "                t=time.time()-t_batch\n",
    "                )\n",
    "            )\n",
    "            \n",
    "            t_batch = time.time()\n",
    "        \n",
    "    loss = sum(losses) / len(losses)\n",
    "    \n",
    "    scheduler.step(loss)\n",
    "    \n",
    "    print('Epoch: {epoch}, loss: {loss:.3f}, time: {t:.2f}'.format(\n",
    "        epoch=epoch+1, \n",
    "        loss=loss, \n",
    "        t=time.time()-t0\n",
    "        )\n",
    "    )\n",
    "    \n",
    "    return loss"
   ]
  },
  {
   "cell_type": "code",
   "execution_count": 15,
   "id": "55afc38e",
   "metadata": {},
   "outputs": [],
   "source": [
    "loss = []\n",
    "\n",
    "for epoch in range(config.epochs):\n",
    "    l = train_epoch(model, train_loader, epoch)\n",
    "    loss.append(l)\n",
    "    \n",
    "    torch.save({\n",
    "        'epoch': epoch,\n",
    "        'model_sd': model.state_dict(),\n",
    "        'optimizer_sd': optimizer.state_dict(),\n",
    "        'loss': loss\n",
    "       }, f'./models/checkpoint-{epoch}.pt')\n",
    "    \n",
    "    wandb.log({\n",
    "        'loss': l\n",
    "    })"
   ]
  },
  {
   "cell_type": "code",
   "execution_count": 16,
   "id": "48aab17e",
   "metadata": {},
   "outputs": [],
   "source": [
    "def translate(\n",
    "    sentence_pl, \n",
    "    model=model, \n",
    "    vocab_pl=vocab_pl, \n",
    "    vocab_en=vocab_en, \n",
    "    device=device, \n",
    "    max_length=50\n",
    "):\n",
    "    \n",
    "    sentence_pl = [vocab_pl[word] for word in PolEngDS._text_prep(sentence_pl).split()]\n",
    "    sentence_pl = [vocab_pl['<sos>'], *sentence_pl, vocab_pl['<eos>']]\n",
    "    sentence_pl = torch.IntTensor(sentence_pl).unsqueeze(0)\n",
    "    \n",
    "    print(sentence_pl)\n",
    "    \n",
    "    outputs = [vocab_en['<sos>']]\n",
    "    \n",
    "    model.eval()\n",
    "    for i in range(max_length):\n",
    "        sentence_en = torch.IntTensor(outputs).unsqueeze(0)\n",
    "    \n",
    "        with torch.no_grad():\n",
    "            output = model(sentence_pl, sentence_en)\n",
    "            \n",
    "        prediction = output.argmax(2)[:, -1].item()\n",
    "        outputs.append(prediction)\n",
    "\n",
    "        if prediction == vocab_en['<eos>']:\n",
    "            break\n",
    "    \n",
    "    sentence_en = [vocab_en[word] for word in outputs]\n",
    "    \n",
    "    model.train()\n",
    "    \n",
    "    return sentence_en[1:]"
   ]
  }
 ],
 "metadata": {
  "kernelspec": {
   "display_name": "poleng",
   "language": "python",
   "name": "poleng"
  },
  "language_info": {
   "codemirror_mode": {
    "name": "ipython",
    "version": 3
   },
   "file_extension": ".py",
   "mimetype": "text/x-python",
   "name": "python",
   "nbconvert_exporter": "python",
   "pygments_lexer": "ipython3",
   "version": "3.8.8"
  }
 },
 "nbformat": 4,
 "nbformat_minor": 5
}
