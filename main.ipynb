{
 "cells": [
  {
   "cell_type": "markdown",
   "id": "e0b6bb9a",
   "metadata": {},
   "source": [
    "Data: https://opus.nlpl.eu/opus-100.php"
   ]
  },
  {
   "cell_type": "code",
   "execution_count": 1,
   "id": "fc5eb037",
   "metadata": {},
   "outputs": [],
   "source": [
    "import os\n",
    "import pandas as pd\n",
    "import numpy as np\n",
    "import torch\n",
    "import torch.nn as nn\n",
    "import torch.nn.functional as F\n",
    "from dataclasses import dataclass\n",
    "from torch.utils.data import DataLoader, Dataset"
   ]
  },
  {
   "cell_type": "code",
   "execution_count": 2,
   "id": "8df99b94",
   "metadata": {},
   "outputs": [],
   "source": [
    "@dataclass\n",
    "class paths:\n",
    "    data = os.path.join('data', 'en-pl')\n",
    "    pl_test = os.path.join(data, 'opus.en-pl-test.pl')\n",
    "    en_test = os.path.join(data, 'opus.en-pl-test.en')\n",
    "    pl_dev = os.path.join(data, 'opus.en-pl-dev.pl')\n",
    "    en_dev = os.path.join(data, 'opus.en-pl-dev.en')\n",
    "    pl_train = os.path.join(data, 'opus.en-pl-train.pl')\n",
    "    en_train = os.path.join(data, 'opus.en-pl-train.en')"
   ]
  },
  {
   "cell_type": "code",
   "execution_count": 3,
   "id": "e5dcf875",
   "metadata": {},
   "outputs": [],
   "source": [
    "with open(paths.pl_train, 'r', encoding='UTF-8') as f:\n",
    "    pl_data = f.read()\n",
    "    pl_data = pl_data.split('\\n')[:-1]"
   ]
  },
  {
   "cell_type": "code",
   "execution_count": 4,
   "id": "c55bfc92",
   "metadata": {},
   "outputs": [],
   "source": [
    "with open(paths.en_train, 'r', encoding='UTF-8') as f:\n",
    "    en_data = f.read()\n",
    "    en_data = en_data.split('\\n')[:-1]"
   ]
  },
  {
   "cell_type": "code",
   "execution_count": 5,
   "id": "b8527afd",
   "metadata": {},
   "outputs": [
    {
     "data": {
      "text/html": [
       "<div>\n",
       "<style scoped>\n",
       "    .dataframe tbody tr th:only-of-type {\n",
       "        vertical-align: middle;\n",
       "    }\n",
       "\n",
       "    .dataframe tbody tr th {\n",
       "        vertical-align: top;\n",
       "    }\n",
       "\n",
       "    .dataframe thead th {\n",
       "        text-align: right;\n",
       "    }\n",
       "</style>\n",
       "<table border=\"1\" class=\"dataframe\">\n",
       "  <thead>\n",
       "    <tr style=\"text-align: right;\">\n",
       "      <th></th>\n",
       "      <th>polish</th>\n",
       "      <th>english</th>\n",
       "    </tr>\n",
       "  </thead>\n",
       "  <tbody>\n",
       "    <tr>\n",
       "      <th>0</th>\n",
       "      <td>W budynku są intruzi!</td>\n",
       "      <td>Intruders in the building!</td>\n",
       "    </tr>\n",
       "    <tr>\n",
       "      <th>1</th>\n",
       "      <td>Bezmyślność...</td>\n",
       "      <td>Very careless of me.</td>\n",
       "    </tr>\n",
       "    <tr>\n",
       "      <th>2</th>\n",
       "      <td>KOMISJA WSPÓLNOT EUROPEJSKICH,</td>\n",
       "      <td>THE COMMISSION OF THE EUROPEAN COMMUNITIES,</td>\n",
       "    </tr>\n",
       "    <tr>\n",
       "      <th>3</th>\n",
       "      <td>Pewnie.</td>\n",
       "      <td>- Yeah, right.</td>\n",
       "    </tr>\n",
       "    <tr>\n",
       "      <th>4</th>\n",
       "      <td>Nie!</td>\n",
       "      <td>No!</td>\n",
       "    </tr>\n",
       "    <tr>\n",
       "      <th>...</th>\n",
       "      <td>...</td>\n",
       "      <td>...</td>\n",
       "    </tr>\n",
       "    <tr>\n",
       "      <th>999995</th>\n",
       "      <td>Uciskaj dalej.</td>\n",
       "      <td>Keep pressure on.</td>\n",
       "    </tr>\n",
       "    <tr>\n",
       "      <th>999996</th>\n",
       "      <td>Kto tu jeszcze był?</td>\n",
       "      <td>Who else was here?</td>\n",
       "    </tr>\n",
       "    <tr>\n",
       "      <th>999997</th>\n",
       "      <td>Chwilowo nie wiemy, gdzie się znajduje. Nadal ...</td>\n",
       "      <td>It's been temporarily misplaced, your honor, b...</td>\n",
       "    </tr>\n",
       "    <tr>\n",
       "      <th>999998</th>\n",
       "      <td>Mam syna.</td>\n",
       "      <td>I have a son.</td>\n",
       "    </tr>\n",
       "    <tr>\n",
       "      <th>999999</th>\n",
       "      <td>Zapomniałeś odpowiedzieć na zaproszenie.</td>\n",
       "      <td>LOOK, I DON'T THINK MICHAEL WOULD FEEL TOO COM...</td>\n",
       "    </tr>\n",
       "  </tbody>\n",
       "</table>\n",
       "<p>1000000 rows × 2 columns</p>\n",
       "</div>"
      ],
      "text/plain": [
       "                                                   polish  \\\n",
       "0                                   W budynku są intruzi!   \n",
       "1                                          Bezmyślność...   \n",
       "2                          KOMISJA WSPÓLNOT EUROPEJSKICH,   \n",
       "3                                                 Pewnie.   \n",
       "4                                                    Nie!   \n",
       "...                                                   ...   \n",
       "999995                                     Uciskaj dalej.   \n",
       "999996                                Kto tu jeszcze był?   \n",
       "999997  Chwilowo nie wiemy, gdzie się znajduje. Nadal ...   \n",
       "999998                                          Mam syna.   \n",
       "999999           Zapomniałeś odpowiedzieć na zaproszenie.   \n",
       "\n",
       "                                                  english  \n",
       "0                              Intruders in the building!  \n",
       "1                                    Very careless of me.  \n",
       "2             THE COMMISSION OF THE EUROPEAN COMMUNITIES,  \n",
       "3                                          - Yeah, right.  \n",
       "4                                                     No!  \n",
       "...                                                   ...  \n",
       "999995                                  Keep pressure on.  \n",
       "999996                                 Who else was here?  \n",
       "999997  It's been temporarily misplaced, your honor, b...  \n",
       "999998                                      I have a son.  \n",
       "999999  LOOK, I DON'T THINK MICHAEL WOULD FEEL TOO COM...  \n",
       "\n",
       "[1000000 rows x 2 columns]"
      ]
     },
     "execution_count": 5,
     "metadata": {},
     "output_type": "execute_result"
    }
   ],
   "source": [
    "pd.DataFrame(data={\n",
    "    'polish': pl_data, \n",
    "    'english': en_data\n",
    "})"
   ]
  },
  {
   "cell_type": "code",
   "execution_count": null,
   "id": "0422a413",
   "metadata": {},
   "outputs": [],
   "source": []
  }
 ],
 "metadata": {
  "kernelspec": {
   "display_name": "poleng",
   "language": "python",
   "name": "poleng"
  },
  "language_info": {
   "codemirror_mode": {
    "name": "ipython",
    "version": 3
   },
   "file_extension": ".py",
   "mimetype": "text/x-python",
   "name": "python",
   "nbconvert_exporter": "python",
   "pygments_lexer": "ipython3",
   "version": "3.8.8"
  }
 },
 "nbformat": 4,
 "nbformat_minor": 5
}
